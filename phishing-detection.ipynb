{
 "cells": [
  {
   "cell_type": "markdown",
   "source": [
    "# Step 1: Import Dependencies"
   ],
   "metadata": {
    "collapsed": false
   },
   "id": "6030567527660569"
  },
  {
   "cell_type": "code",
   "execution_count": 49,
   "outputs": [],
   "source": [
    "import numpy as np\n",
    "import pandas as pd\n",
    "import matplotlib.pyplot as plt\n",
    "from sklearn.model_selection import train_test_split\n",
    "from sklearn.ensemble import RandomForestClassifier\n",
    "from sklearn.metrics import accuracy_score, precision_score, recall_score"
   ],
   "metadata": {
    "collapsed": false,
    "ExecuteTime": {
     "end_time": "2024-04-02T21:55:05.250975Z",
     "start_time": "2024-04-02T21:55:05.183844Z"
    }
   },
   "id": "e7da74a7a1813bd"
  },
  {
   "cell_type": "markdown",
   "source": [
    "# Step 2: Load the Dataset\n",
    "\n",
    "https://www.kaggle.com/datasets/shashwatwork/phishing-dataset-for-machine-learning"
   ],
   "metadata": {
    "collapsed": false
   },
   "id": "e82ec588a2537e74"
  },
  {
   "cell_type": "code",
   "execution_count": 50,
   "outputs": [],
   "source": [
    "data = pd.read_csv(\"phishing_legitimate_full.csv\")"
   ],
   "metadata": {
    "collapsed": false,
    "ExecuteTime": {
     "end_time": "2024-04-02T21:55:05.264442Z",
     "start_time": "2024-04-02T21:55:05.188972Z"
    }
   },
   "id": "2a0cb80a8b76a62d"
  },
  {
   "cell_type": "code",
   "execution_count": 51,
   "outputs": [
    {
     "data": {
      "text/plain": "   id  NumDots  SubdomainLevel  PathLevel  UrlLength  NumDash  \\\n0   1        3               1          5         72        0   \n1   2        3               1          3        144        0   \n2   3        3               1          2         58        0   \n3   4        3               1          6         79        1   \n4   5        3               0          4         46        0   \n\n   NumDashInHostname  AtSymbol  TildeSymbol  NumUnderscore  ...  \\\n0                  0         0            0              0  ...   \n1                  0         0            0              2  ...   \n2                  0         0            0              0  ...   \n3                  0         0            0              0  ...   \n4                  0         0            0              0  ...   \n\n   IframeOrFrame  MissingTitle  ImagesOnlyInForm  SubdomainLevelRT  \\\n0              0             0                 1                 1   \n1              0             0                 0                 1   \n2              0             0                 0                 1   \n3              0             0                 0                 1   \n4              1             0                 0                 1   \n\n   UrlLengthRT  PctExtResourceUrlsRT  AbnormalExtFormActionR  \\\n0            0                     1                       1   \n1           -1                     1                       1   \n2            0                    -1                       1   \n3           -1                     1                       1   \n4            1                    -1                       0   \n\n   ExtMetaScriptLinkRT  PctExtNullSelfRedirectHyperlinksRT  CLASS_LABEL  \n0                   -1                                   1            1  \n1                    1                                   1            1  \n2                   -1                                   0            1  \n3                    1                                  -1            1  \n4                   -1                                  -1            1  \n\n[5 rows x 50 columns]",
      "text/html": "<div>\n<style scoped>\n    .dataframe tbody tr th:only-of-type {\n        vertical-align: middle;\n    }\n\n    .dataframe tbody tr th {\n        vertical-align: top;\n    }\n\n    .dataframe thead th {\n        text-align: right;\n    }\n</style>\n<table border=\"1\" class=\"dataframe\">\n  <thead>\n    <tr style=\"text-align: right;\">\n      <th></th>\n      <th>id</th>\n      <th>NumDots</th>\n      <th>SubdomainLevel</th>\n      <th>PathLevel</th>\n      <th>UrlLength</th>\n      <th>NumDash</th>\n      <th>NumDashInHostname</th>\n      <th>AtSymbol</th>\n      <th>TildeSymbol</th>\n      <th>NumUnderscore</th>\n      <th>...</th>\n      <th>IframeOrFrame</th>\n      <th>MissingTitle</th>\n      <th>ImagesOnlyInForm</th>\n      <th>SubdomainLevelRT</th>\n      <th>UrlLengthRT</th>\n      <th>PctExtResourceUrlsRT</th>\n      <th>AbnormalExtFormActionR</th>\n      <th>ExtMetaScriptLinkRT</th>\n      <th>PctExtNullSelfRedirectHyperlinksRT</th>\n      <th>CLASS_LABEL</th>\n    </tr>\n  </thead>\n  <tbody>\n    <tr>\n      <th>0</th>\n      <td>1</td>\n      <td>3</td>\n      <td>1</td>\n      <td>5</td>\n      <td>72</td>\n      <td>0</td>\n      <td>0</td>\n      <td>0</td>\n      <td>0</td>\n      <td>0</td>\n      <td>...</td>\n      <td>0</td>\n      <td>0</td>\n      <td>1</td>\n      <td>1</td>\n      <td>0</td>\n      <td>1</td>\n      <td>1</td>\n      <td>-1</td>\n      <td>1</td>\n      <td>1</td>\n    </tr>\n    <tr>\n      <th>1</th>\n      <td>2</td>\n      <td>3</td>\n      <td>1</td>\n      <td>3</td>\n      <td>144</td>\n      <td>0</td>\n      <td>0</td>\n      <td>0</td>\n      <td>0</td>\n      <td>2</td>\n      <td>...</td>\n      <td>0</td>\n      <td>0</td>\n      <td>0</td>\n      <td>1</td>\n      <td>-1</td>\n      <td>1</td>\n      <td>1</td>\n      <td>1</td>\n      <td>1</td>\n      <td>1</td>\n    </tr>\n    <tr>\n      <th>2</th>\n      <td>3</td>\n      <td>3</td>\n      <td>1</td>\n      <td>2</td>\n      <td>58</td>\n      <td>0</td>\n      <td>0</td>\n      <td>0</td>\n      <td>0</td>\n      <td>0</td>\n      <td>...</td>\n      <td>0</td>\n      <td>0</td>\n      <td>0</td>\n      <td>1</td>\n      <td>0</td>\n      <td>-1</td>\n      <td>1</td>\n      <td>-1</td>\n      <td>0</td>\n      <td>1</td>\n    </tr>\n    <tr>\n      <th>3</th>\n      <td>4</td>\n      <td>3</td>\n      <td>1</td>\n      <td>6</td>\n      <td>79</td>\n      <td>1</td>\n      <td>0</td>\n      <td>0</td>\n      <td>0</td>\n      <td>0</td>\n      <td>...</td>\n      <td>0</td>\n      <td>0</td>\n      <td>0</td>\n      <td>1</td>\n      <td>-1</td>\n      <td>1</td>\n      <td>1</td>\n      <td>1</td>\n      <td>-1</td>\n      <td>1</td>\n    </tr>\n    <tr>\n      <th>4</th>\n      <td>5</td>\n      <td>3</td>\n      <td>0</td>\n      <td>4</td>\n      <td>46</td>\n      <td>0</td>\n      <td>0</td>\n      <td>0</td>\n      <td>0</td>\n      <td>0</td>\n      <td>...</td>\n      <td>1</td>\n      <td>0</td>\n      <td>0</td>\n      <td>1</td>\n      <td>1</td>\n      <td>-1</td>\n      <td>0</td>\n      <td>-1</td>\n      <td>-1</td>\n      <td>1</td>\n    </tr>\n  </tbody>\n</table>\n<p>5 rows × 50 columns</p>\n</div>"
     },
     "execution_count": 51,
     "metadata": {},
     "output_type": "execute_result"
    }
   ],
   "source": [
    "data.head()"
   ],
   "metadata": {
    "collapsed": false,
    "ExecuteTime": {
     "end_time": "2024-04-02T21:55:05.282677Z",
     "start_time": "2024-04-02T21:55:05.226050Z"
    }
   },
   "id": "909cd905f322c99a"
  },
  {
   "cell_type": "markdown",
   "source": [
    "# Step 3: Dataset Analysis"
   ],
   "metadata": {
    "collapsed": false
   },
   "id": "ff4cd1dd9bba7d1e"
  },
  {
   "cell_type": "code",
   "execution_count": 52,
   "outputs": [
    {
     "name": "stdout",
     "output_type": "stream",
     "text": [
      "<class 'pandas.core.frame.DataFrame'>\n",
      "RangeIndex: 10000 entries, 0 to 9999\n",
      "Data columns (total 50 columns):\n",
      " #   Column                              Non-Null Count  Dtype  \n",
      "---  ------                              --------------  -----  \n",
      " 0   id                                  10000 non-null  int64  \n",
      " 1   NumDots                             10000 non-null  int64  \n",
      " 2   SubdomainLevel                      10000 non-null  int64  \n",
      " 3   PathLevel                           10000 non-null  int64  \n",
      " 4   UrlLength                           10000 non-null  int64  \n",
      " 5   NumDash                             10000 non-null  int64  \n",
      " 6   NumDashInHostname                   10000 non-null  int64  \n",
      " 7   AtSymbol                            10000 non-null  int64  \n",
      " 8   TildeSymbol                         10000 non-null  int64  \n",
      " 9   NumUnderscore                       10000 non-null  int64  \n",
      " 10  NumPercent                          10000 non-null  int64  \n",
      " 11  NumQueryComponents                  10000 non-null  int64  \n",
      " 12  NumAmpersand                        10000 non-null  int64  \n",
      " 13  NumHash                             10000 non-null  int64  \n",
      " 14  NumNumericChars                     10000 non-null  int64  \n",
      " 15  NoHttps                             10000 non-null  int64  \n",
      " 16  RandomString                        10000 non-null  int64  \n",
      " 17  IpAddress                           10000 non-null  int64  \n",
      " 18  DomainInSubdomains                  10000 non-null  int64  \n",
      " 19  DomainInPaths                       10000 non-null  int64  \n",
      " 20  HttpsInHostname                     10000 non-null  int64  \n",
      " 21  HostnameLength                      10000 non-null  int64  \n",
      " 22  PathLength                          10000 non-null  int64  \n",
      " 23  QueryLength                         10000 non-null  int64  \n",
      " 24  DoubleSlashInPath                   10000 non-null  int64  \n",
      " 25  NumSensitiveWords                   10000 non-null  int64  \n",
      " 26  EmbeddedBrandName                   10000 non-null  int64  \n",
      " 27  PctExtHyperlinks                    10000 non-null  float64\n",
      " 28  PctExtResourceUrls                  10000 non-null  float64\n",
      " 29  ExtFavicon                          10000 non-null  int64  \n",
      " 30  InsecureForms                       10000 non-null  int64  \n",
      " 31  RelativeFormAction                  10000 non-null  int64  \n",
      " 32  ExtFormAction                       10000 non-null  int64  \n",
      " 33  AbnormalFormAction                  10000 non-null  int64  \n",
      " 34  PctNullSelfRedirectHyperlinks       10000 non-null  float64\n",
      " 35  FrequentDomainNameMismatch          10000 non-null  int64  \n",
      " 36  FakeLinkInStatusBar                 10000 non-null  int64  \n",
      " 37  RightClickDisabled                  10000 non-null  int64  \n",
      " 38  PopUpWindow                         10000 non-null  int64  \n",
      " 39  SubmitInfoToEmail                   10000 non-null  int64  \n",
      " 40  IframeOrFrame                       10000 non-null  int64  \n",
      " 41  MissingTitle                        10000 non-null  int64  \n",
      " 42  ImagesOnlyInForm                    10000 non-null  int64  \n",
      " 43  SubdomainLevelRT                    10000 non-null  int64  \n",
      " 44  UrlLengthRT                         10000 non-null  int64  \n",
      " 45  PctExtResourceUrlsRT                10000 non-null  int64  \n",
      " 46  AbnormalExtFormActionR              10000 non-null  int64  \n",
      " 47  ExtMetaScriptLinkRT                 10000 non-null  int64  \n",
      " 48  PctExtNullSelfRedirectHyperlinksRT  10000 non-null  int64  \n",
      " 49  CLASS_LABEL                         10000 non-null  int64  \n",
      "dtypes: float64(3), int64(47)\n",
      "memory usage: 3.8 MB\n"
     ]
    }
   ],
   "source": [
    "data.info()"
   ],
   "metadata": {
    "collapsed": false,
    "ExecuteTime": {
     "end_time": "2024-04-02T21:55:05.283365Z",
     "start_time": "2024-04-02T21:55:05.230094Z"
    }
   },
   "id": "1ae45783401e83d1"
  },
  {
   "cell_type": "code",
   "execution_count": 53,
   "outputs": [
    {
     "data": {
      "text/plain": "                id       NumDots  SubdomainLevel     PathLevel     UrlLength  \\\ncount  10000.00000  10000.000000    10000.000000  10000.000000  10000.000000   \nmean    5000.50000      2.445100        0.586800      3.300300     70.264100   \nstd     2886.89568      1.346836        0.751214      1.863241     33.369877   \nmin        1.00000      1.000000        0.000000      0.000000     12.000000   \n25%     2500.75000      2.000000        0.000000      2.000000     48.000000   \n50%     5000.50000      2.000000        1.000000      3.000000     62.000000   \n75%     7500.25000      3.000000        1.000000      4.000000     84.000000   \nmax    10000.00000     21.000000       14.000000     18.000000    253.000000   \n\n            NumDash  NumDashInHostname      AtSymbol   TildeSymbol  \\\ncount  10000.000000       10000.000000  10000.000000  10000.000000   \nmean       1.818000           0.138900      0.000300      0.013100   \nstd        3.106258           0.545744      0.017319      0.113709   \nmin        0.000000           0.000000      0.000000      0.000000   \n25%        0.000000           0.000000      0.000000      0.000000   \n50%        0.000000           0.000000      0.000000      0.000000   \n75%        2.000000           0.000000      0.000000      0.000000   \nmax       55.000000           9.000000      1.000000      1.000000   \n\n       NumUnderscore  ...  IframeOrFrame  MissingTitle  ImagesOnlyInForm  \\\ncount    10000.00000  ...   10000.000000   10000.00000      10000.000000   \nmean         0.32320  ...       0.339600       0.03220          0.030400   \nstd          1.11466  ...       0.473597       0.17654          0.171694   \nmin          0.00000  ...       0.000000       0.00000          0.000000   \n25%          0.00000  ...       0.000000       0.00000          0.000000   \n50%          0.00000  ...       0.000000       0.00000          0.000000   \n75%          0.00000  ...       1.000000       0.00000          0.000000   \nmax         18.00000  ...       1.000000       1.00000          1.000000   \n\n       SubdomainLevelRT   UrlLengthRT  PctExtResourceUrlsRT  \\\ncount      10000.000000  10000.000000          10000.000000   \nmean           0.956600      0.020200              0.353300   \nstd            0.248037      0.820036              0.888908   \nmin           -1.000000     -1.000000             -1.000000   \n25%            1.000000     -1.000000             -1.000000   \n50%            1.000000      0.000000              1.000000   \n75%            1.000000      1.000000              1.000000   \nmax            1.000000      1.000000              1.000000   \n\n       AbnormalExtFormActionR  ExtMetaScriptLinkRT  \\\ncount            10000.000000         10000.000000   \nmean                 0.793200             0.173400   \nstd                  0.521019             0.755771   \nmin                 -1.000000            -1.000000   \n25%                  1.000000             0.000000   \n50%                  1.000000             0.000000   \n75%                  1.000000             1.000000   \nmax                  1.000000             1.000000   \n\n       PctExtNullSelfRedirectHyperlinksRT   CLASS_LABEL  \ncount                        10000.000000  10000.000000  \nmean                             0.314100      0.500000  \nstd                              0.897843      0.500025  \nmin                             -1.000000      0.000000  \n25%                             -1.000000      0.000000  \n50%                              1.000000      0.500000  \n75%                              1.000000      1.000000  \nmax                              1.000000      1.000000  \n\n[8 rows x 50 columns]",
      "text/html": "<div>\n<style scoped>\n    .dataframe tbody tr th:only-of-type {\n        vertical-align: middle;\n    }\n\n    .dataframe tbody tr th {\n        vertical-align: top;\n    }\n\n    .dataframe thead th {\n        text-align: right;\n    }\n</style>\n<table border=\"1\" class=\"dataframe\">\n  <thead>\n    <tr style=\"text-align: right;\">\n      <th></th>\n      <th>id</th>\n      <th>NumDots</th>\n      <th>SubdomainLevel</th>\n      <th>PathLevel</th>\n      <th>UrlLength</th>\n      <th>NumDash</th>\n      <th>NumDashInHostname</th>\n      <th>AtSymbol</th>\n      <th>TildeSymbol</th>\n      <th>NumUnderscore</th>\n      <th>...</th>\n      <th>IframeOrFrame</th>\n      <th>MissingTitle</th>\n      <th>ImagesOnlyInForm</th>\n      <th>SubdomainLevelRT</th>\n      <th>UrlLengthRT</th>\n      <th>PctExtResourceUrlsRT</th>\n      <th>AbnormalExtFormActionR</th>\n      <th>ExtMetaScriptLinkRT</th>\n      <th>PctExtNullSelfRedirectHyperlinksRT</th>\n      <th>CLASS_LABEL</th>\n    </tr>\n  </thead>\n  <tbody>\n    <tr>\n      <th>count</th>\n      <td>10000.00000</td>\n      <td>10000.000000</td>\n      <td>10000.000000</td>\n      <td>10000.000000</td>\n      <td>10000.000000</td>\n      <td>10000.000000</td>\n      <td>10000.000000</td>\n      <td>10000.000000</td>\n      <td>10000.000000</td>\n      <td>10000.00000</td>\n      <td>...</td>\n      <td>10000.000000</td>\n      <td>10000.00000</td>\n      <td>10000.000000</td>\n      <td>10000.000000</td>\n      <td>10000.000000</td>\n      <td>10000.000000</td>\n      <td>10000.000000</td>\n      <td>10000.000000</td>\n      <td>10000.000000</td>\n      <td>10000.000000</td>\n    </tr>\n    <tr>\n      <th>mean</th>\n      <td>5000.50000</td>\n      <td>2.445100</td>\n      <td>0.586800</td>\n      <td>3.300300</td>\n      <td>70.264100</td>\n      <td>1.818000</td>\n      <td>0.138900</td>\n      <td>0.000300</td>\n      <td>0.013100</td>\n      <td>0.32320</td>\n      <td>...</td>\n      <td>0.339600</td>\n      <td>0.03220</td>\n      <td>0.030400</td>\n      <td>0.956600</td>\n      <td>0.020200</td>\n      <td>0.353300</td>\n      <td>0.793200</td>\n      <td>0.173400</td>\n      <td>0.314100</td>\n      <td>0.500000</td>\n    </tr>\n    <tr>\n      <th>std</th>\n      <td>2886.89568</td>\n      <td>1.346836</td>\n      <td>0.751214</td>\n      <td>1.863241</td>\n      <td>33.369877</td>\n      <td>3.106258</td>\n      <td>0.545744</td>\n      <td>0.017319</td>\n      <td>0.113709</td>\n      <td>1.11466</td>\n      <td>...</td>\n      <td>0.473597</td>\n      <td>0.17654</td>\n      <td>0.171694</td>\n      <td>0.248037</td>\n      <td>0.820036</td>\n      <td>0.888908</td>\n      <td>0.521019</td>\n      <td>0.755771</td>\n      <td>0.897843</td>\n      <td>0.500025</td>\n    </tr>\n    <tr>\n      <th>min</th>\n      <td>1.00000</td>\n      <td>1.000000</td>\n      <td>0.000000</td>\n      <td>0.000000</td>\n      <td>12.000000</td>\n      <td>0.000000</td>\n      <td>0.000000</td>\n      <td>0.000000</td>\n      <td>0.000000</td>\n      <td>0.00000</td>\n      <td>...</td>\n      <td>0.000000</td>\n      <td>0.00000</td>\n      <td>0.000000</td>\n      <td>-1.000000</td>\n      <td>-1.000000</td>\n      <td>-1.000000</td>\n      <td>-1.000000</td>\n      <td>-1.000000</td>\n      <td>-1.000000</td>\n      <td>0.000000</td>\n    </tr>\n    <tr>\n      <th>25%</th>\n      <td>2500.75000</td>\n      <td>2.000000</td>\n      <td>0.000000</td>\n      <td>2.000000</td>\n      <td>48.000000</td>\n      <td>0.000000</td>\n      <td>0.000000</td>\n      <td>0.000000</td>\n      <td>0.000000</td>\n      <td>0.00000</td>\n      <td>...</td>\n      <td>0.000000</td>\n      <td>0.00000</td>\n      <td>0.000000</td>\n      <td>1.000000</td>\n      <td>-1.000000</td>\n      <td>-1.000000</td>\n      <td>1.000000</td>\n      <td>0.000000</td>\n      <td>-1.000000</td>\n      <td>0.000000</td>\n    </tr>\n    <tr>\n      <th>50%</th>\n      <td>5000.50000</td>\n      <td>2.000000</td>\n      <td>1.000000</td>\n      <td>3.000000</td>\n      <td>62.000000</td>\n      <td>0.000000</td>\n      <td>0.000000</td>\n      <td>0.000000</td>\n      <td>0.000000</td>\n      <td>0.00000</td>\n      <td>...</td>\n      <td>0.000000</td>\n      <td>0.00000</td>\n      <td>0.000000</td>\n      <td>1.000000</td>\n      <td>0.000000</td>\n      <td>1.000000</td>\n      <td>1.000000</td>\n      <td>0.000000</td>\n      <td>1.000000</td>\n      <td>0.500000</td>\n    </tr>\n    <tr>\n      <th>75%</th>\n      <td>7500.25000</td>\n      <td>3.000000</td>\n      <td>1.000000</td>\n      <td>4.000000</td>\n      <td>84.000000</td>\n      <td>2.000000</td>\n      <td>0.000000</td>\n      <td>0.000000</td>\n      <td>0.000000</td>\n      <td>0.00000</td>\n      <td>...</td>\n      <td>1.000000</td>\n      <td>0.00000</td>\n      <td>0.000000</td>\n      <td>1.000000</td>\n      <td>1.000000</td>\n      <td>1.000000</td>\n      <td>1.000000</td>\n      <td>1.000000</td>\n      <td>1.000000</td>\n      <td>1.000000</td>\n    </tr>\n    <tr>\n      <th>max</th>\n      <td>10000.00000</td>\n      <td>21.000000</td>\n      <td>14.000000</td>\n      <td>18.000000</td>\n      <td>253.000000</td>\n      <td>55.000000</td>\n      <td>9.000000</td>\n      <td>1.000000</td>\n      <td>1.000000</td>\n      <td>18.00000</td>\n      <td>...</td>\n      <td>1.000000</td>\n      <td>1.00000</td>\n      <td>1.000000</td>\n      <td>1.000000</td>\n      <td>1.000000</td>\n      <td>1.000000</td>\n      <td>1.000000</td>\n      <td>1.000000</td>\n      <td>1.000000</td>\n      <td>1.000000</td>\n    </tr>\n  </tbody>\n</table>\n<p>8 rows × 50 columns</p>\n</div>"
     },
     "execution_count": 53,
     "metadata": {},
     "output_type": "execute_result"
    }
   ],
   "source": [
    "data.describe()"
   ],
   "metadata": {
    "collapsed": false,
    "ExecuteTime": {
     "end_time": "2024-04-02T21:55:05.324294Z",
     "start_time": "2024-04-02T21:55:05.242983Z"
    }
   },
   "id": "d9903369c6e97d35"
  },
  {
   "cell_type": "code",
   "execution_count": 54,
   "outputs": [
    {
     "data": {
      "text/plain": "0          72.0\n1         144.0\n2          58.0\n3          79.0\n4          46.0\n         ...   \n9995     9996.0\n9996     9997.0\n9997     9998.0\n9998     9999.0\n9999    10000.0\nLength: 10000, dtype: float64"
     },
     "execution_count": 54,
     "metadata": {},
     "output_type": "execute_result"
    }
   ],
   "source": [
    "data.max(axis=1)"
   ],
   "metadata": {
    "collapsed": false,
    "ExecuteTime": {
     "end_time": "2024-04-02T21:55:05.325172Z",
     "start_time": "2024-04-02T21:55:05.285797Z"
    }
   },
   "id": "a1238b99207594fc"
  },
  {
   "cell_type": "code",
   "execution_count": 55,
   "outputs": [],
   "source": [
    "data.drop(\"id\", axis=1, inplace=True)"
   ],
   "metadata": {
    "collapsed": false,
    "ExecuteTime": {
     "end_time": "2024-04-02T21:55:05.325284Z",
     "start_time": "2024-04-02T21:55:05.296437Z"
    }
   },
   "id": "f2a1f9145e89cefc"
  },
  {
   "cell_type": "code",
   "execution_count": 56,
   "outputs": [
    {
     "data": {
      "text/plain": "   NumDots  SubdomainLevel  PathLevel  UrlLength  NumDash  NumDashInHostname  \\\n0        3               1          5         72        0                  0   \n1        3               1          3        144        0                  0   \n2        3               1          2         58        0                  0   \n3        3               1          6         79        1                  0   \n4        3               0          4         46        0                  0   \n\n   AtSymbol  TildeSymbol  NumUnderscore  NumPercent  ...  IframeOrFrame  \\\n0         0            0              0           0  ...              0   \n1         0            0              2           0  ...              0   \n2         0            0              0           0  ...              0   \n3         0            0              0           0  ...              0   \n4         0            0              0           0  ...              1   \n\n   MissingTitle  ImagesOnlyInForm  SubdomainLevelRT  UrlLengthRT  \\\n0             0                 1                 1            0   \n1             0                 0                 1           -1   \n2             0                 0                 1            0   \n3             0                 0                 1           -1   \n4             0                 0                 1            1   \n\n   PctExtResourceUrlsRT  AbnormalExtFormActionR  ExtMetaScriptLinkRT  \\\n0                     1                       1                   -1   \n1                     1                       1                    1   \n2                    -1                       1                   -1   \n3                     1                       1                    1   \n4                    -1                       0                   -1   \n\n   PctExtNullSelfRedirectHyperlinksRT  CLASS_LABEL  \n0                                   1            1  \n1                                   1            1  \n2                                   0            1  \n3                                  -1            1  \n4                                  -1            1  \n\n[5 rows x 49 columns]",
      "text/html": "<div>\n<style scoped>\n    .dataframe tbody tr th:only-of-type {\n        vertical-align: middle;\n    }\n\n    .dataframe tbody tr th {\n        vertical-align: top;\n    }\n\n    .dataframe thead th {\n        text-align: right;\n    }\n</style>\n<table border=\"1\" class=\"dataframe\">\n  <thead>\n    <tr style=\"text-align: right;\">\n      <th></th>\n      <th>NumDots</th>\n      <th>SubdomainLevel</th>\n      <th>PathLevel</th>\n      <th>UrlLength</th>\n      <th>NumDash</th>\n      <th>NumDashInHostname</th>\n      <th>AtSymbol</th>\n      <th>TildeSymbol</th>\n      <th>NumUnderscore</th>\n      <th>NumPercent</th>\n      <th>...</th>\n      <th>IframeOrFrame</th>\n      <th>MissingTitle</th>\n      <th>ImagesOnlyInForm</th>\n      <th>SubdomainLevelRT</th>\n      <th>UrlLengthRT</th>\n      <th>PctExtResourceUrlsRT</th>\n      <th>AbnormalExtFormActionR</th>\n      <th>ExtMetaScriptLinkRT</th>\n      <th>PctExtNullSelfRedirectHyperlinksRT</th>\n      <th>CLASS_LABEL</th>\n    </tr>\n  </thead>\n  <tbody>\n    <tr>\n      <th>0</th>\n      <td>3</td>\n      <td>1</td>\n      <td>5</td>\n      <td>72</td>\n      <td>0</td>\n      <td>0</td>\n      <td>0</td>\n      <td>0</td>\n      <td>0</td>\n      <td>0</td>\n      <td>...</td>\n      <td>0</td>\n      <td>0</td>\n      <td>1</td>\n      <td>1</td>\n      <td>0</td>\n      <td>1</td>\n      <td>1</td>\n      <td>-1</td>\n      <td>1</td>\n      <td>1</td>\n    </tr>\n    <tr>\n      <th>1</th>\n      <td>3</td>\n      <td>1</td>\n      <td>3</td>\n      <td>144</td>\n      <td>0</td>\n      <td>0</td>\n      <td>0</td>\n      <td>0</td>\n      <td>2</td>\n      <td>0</td>\n      <td>...</td>\n      <td>0</td>\n      <td>0</td>\n      <td>0</td>\n      <td>1</td>\n      <td>-1</td>\n      <td>1</td>\n      <td>1</td>\n      <td>1</td>\n      <td>1</td>\n      <td>1</td>\n    </tr>\n    <tr>\n      <th>2</th>\n      <td>3</td>\n      <td>1</td>\n      <td>2</td>\n      <td>58</td>\n      <td>0</td>\n      <td>0</td>\n      <td>0</td>\n      <td>0</td>\n      <td>0</td>\n      <td>0</td>\n      <td>...</td>\n      <td>0</td>\n      <td>0</td>\n      <td>0</td>\n      <td>1</td>\n      <td>0</td>\n      <td>-1</td>\n      <td>1</td>\n      <td>-1</td>\n      <td>0</td>\n      <td>1</td>\n    </tr>\n    <tr>\n      <th>3</th>\n      <td>3</td>\n      <td>1</td>\n      <td>6</td>\n      <td>79</td>\n      <td>1</td>\n      <td>0</td>\n      <td>0</td>\n      <td>0</td>\n      <td>0</td>\n      <td>0</td>\n      <td>...</td>\n      <td>0</td>\n      <td>0</td>\n      <td>0</td>\n      <td>1</td>\n      <td>-1</td>\n      <td>1</td>\n      <td>1</td>\n      <td>1</td>\n      <td>-1</td>\n      <td>1</td>\n    </tr>\n    <tr>\n      <th>4</th>\n      <td>3</td>\n      <td>0</td>\n      <td>4</td>\n      <td>46</td>\n      <td>0</td>\n      <td>0</td>\n      <td>0</td>\n      <td>0</td>\n      <td>0</td>\n      <td>0</td>\n      <td>...</td>\n      <td>1</td>\n      <td>0</td>\n      <td>0</td>\n      <td>1</td>\n      <td>1</td>\n      <td>-1</td>\n      <td>0</td>\n      <td>-1</td>\n      <td>-1</td>\n      <td>1</td>\n    </tr>\n  </tbody>\n</table>\n<p>5 rows × 49 columns</p>\n</div>"
     },
     "execution_count": 56,
     "metadata": {},
     "output_type": "execute_result"
    }
   ],
   "source": [
    "data.head()"
   ],
   "metadata": {
    "collapsed": false,
    "ExecuteTime": {
     "end_time": "2024-04-02T21:55:05.325722Z",
     "start_time": "2024-04-02T21:55:05.304597Z"
    }
   },
   "id": "2c8ca13a5e6bb911"
  },
  {
   "cell_type": "code",
   "execution_count": 57,
   "outputs": [
    {
     "data": {
      "text/plain": "<Axes: >"
     },
     "execution_count": 57,
     "metadata": {},
     "output_type": "execute_result"
    },
    {
     "data": {
      "text/plain": "<Figure size 640x480 with 1 Axes>",
      "image/png": "[encoded data removed]"
     },
     "metadata": {},
     "output_type": "display_data"
    }
   ],
   "source": [
    "data['CLASS_LABEL'].hist()"
   ],
   "metadata": {
    "collapsed": false,
    "ExecuteTime": {
     "end_time": "2024-04-02T21:55:05.452245Z",
     "start_time": "2024-04-02T21:55:05.315187Z"
    }
   },
   "id": "82edff6d1260962e"
  },
  {
   "cell_type": "markdown",
   "source": [
    "# Step 4: Splitting the Data"
   ],
   "metadata": {
    "collapsed": false
   },
   "id": "822b90e0fbae329e"
  },
  {
   "cell_type": "code",
   "execution_count": 58,
   "outputs": [],
   "source": [
    "X = data.drop(\"CLASS_LABEL\", axis=1)\n",
    "y = data[\"CLASS_LABEL\"]"
   ],
   "metadata": {
    "collapsed": false,
    "ExecuteTime": {
     "end_time": "2024-04-02T21:55:05.452385Z",
     "start_time": "2024-04-02T21:55:05.402018Z"
    }
   },
   "id": "71e5c2cf1996332e"
  },
  {
   "cell_type": "code",
   "execution_count": 59,
   "outputs": [],
   "source": [
    "X_train, X_test, y_train, y_test = train_test_split(X, y, random_state=42)"
   ],
   "metadata": {
    "collapsed": false,
    "ExecuteTime": {
     "end_time": "2024-04-02T21:55:05.452541Z",
     "start_time": "2024-04-02T21:55:05.409781Z"
    }
   },
   "id": "e5f719c67522fab1"
  },
  {
   "cell_type": "code",
   "execution_count": 60,
   "outputs": [
    {
     "data": {
      "text/plain": "(7500, 48)"
     },
     "execution_count": 60,
     "metadata": {},
     "output_type": "execute_result"
    }
   ],
   "source": [
    "X_train.shape"
   ],
   "metadata": {
    "collapsed": false,
    "ExecuteTime": {
     "end_time": "2024-04-02T21:55:05.452659Z",
     "start_time": "2024-04-02T21:55:05.416483Z"
    }
   },
   "id": "466bcc6ded5f7ad5"
  },
  {
   "cell_type": "code",
   "execution_count": 61,
   "outputs": [
    {
     "data": {
      "text/plain": "(2500, 48)"
     },
     "execution_count": 61,
     "metadata": {},
     "output_type": "execute_result"
    }
   ],
   "source": [
    "X_test.shape"
   ],
   "metadata": {
    "collapsed": false,
    "ExecuteTime": {
     "end_time": "2024-04-02T21:55:05.475405Z",
     "start_time": "2024-04-02T21:55:05.423075Z"
    }
   },
   "id": "bb34992dfd1a5dff"
  },
  {
   "cell_type": "markdown",
   "source": [
    "# Step 5: Training Random Forest Algorithm"
   ],
   "metadata": {
    "collapsed": false
   },
   "id": "871f9f865cbd1095"
  },
  {
   "cell_type": "code",
   "execution_count": 63,
   "outputs": [],
   "source": [
    "rfc = RandomForestClassifier()"
   ],
   "metadata": {
    "collapsed": false,
    "ExecuteTime": {
     "end_time": "2024-04-02T21:55:05.500430Z",
     "start_time": "2024-04-02T21:55:05.439055Z"
    }
   },
   "id": "5034c87d6a6ec27e"
  },
  {
   "cell_type": "code",
   "execution_count": 64,
   "outputs": [
    {
     "data": {
      "text/plain": "RandomForestClassifier()",
      "text/html": "<style>#sk-container-id-2 {\n  /* Definition of color scheme common for light and dark mode */\n  --sklearn-color-text: black;\n  --sklearn-color-line: gray;\n  /* Definition of color scheme for unfitted estimators */\n  --sklearn-color-unfitted-level-0: #fff5e6;\n  --sklearn-color-unfitted-level-1: #f6e4d2;\n  --sklearn-color-unfitted-level-2: #ffe0b3;\n  --sklearn-color-unfitted-level-3: chocolate;\n  /* Definition of color scheme for fitted estimators */\n  --sklearn-color-fitted-level-0: #f0f8ff;\n  --sklearn-color-fitted-level-1: #d4ebff;\n  --sklearn-color-fitted-level-2: #b3dbfd;\n  --sklearn-color-fitted-level-3: cornflowerblue;\n\n  /* Specific color for light theme */\n  --sklearn-color-text-on-default-background: var(--sg-text-color, var(--theme-code-foreground, var(--jp-content-font-color1, black)));\n  --sklearn-color-background: var(--sg-background-color, var(--theme-background, var(--jp-layout-color0, white)));\n  --sklearn-color-border-box: var(--sg-text-color, var(--theme-code-foreground, var(--jp-content-font-color1, black)));\n  --sklearn-color-icon: #696969;\n\n  @media (prefers-color-scheme: dark) {\n    /* Redefinition of color scheme for dark theme */\n    --sklearn-color-text-on-default-background: var(--sg-text-color, var(--theme-code-foreground, var(--jp-content-font-color1, white)));\n    --sklearn-color-background: var(--sg-background-color, var(--theme-background, var(--jp-layout-color0, #111)));\n    --sklearn-color-border-box: var(--sg-text-color, var(--theme-code-foreground, var(--jp-content-font-color1, white)));\n    --sklearn-color-icon: #878787;\n  }\n}\n\n#sk-container-id-2 {\n  color: var(--sklearn-color-text);\n}\n\n#sk-container-id-2 pre {\n  padding: 0;\n}\n\n#sk-container-id-2 input.sk-hidden--visually {\n  border: 0;\n  clip: rect(1px 1px 1px 1px);\n  clip: rect(1px, 1px, 1px, 1px);\n  height: 1px;\n  margin: -1px;\n  overflow: hidden;\n  padding: 0;\n  position: absolute;\n  width: 1px;\n}\n\n#sk-container-id-2 div.sk-dashed-wrapped {\n  border: 1px dashed var(--sklearn-color-line);\n  margin: 0 0.4em 0.5em 0.4em;\n  box-sizing: border-box;\n  padding-bottom: 0.4em;\n  background-color: var(--sklearn-color-background);\n}\n\n#sk-container-id-2 div.sk-container {\n  /* jupyter's `normalize.less` sets `[hidden] { display: none; }`\n     but bootstrap.min.css set `[hidden] { display: none !important; }`\n     so we also need the `!important` here to be able to override the\n     default hidden behavior on the sphinx rendered scikit-learn.org.\n     See: https://github.com/scikit-learn/scikit-learn/issues/21755 */\n  display: inline-block !important;\n  position: relative;\n}\n\n#sk-container-id-2 div.sk-text-repr-fallback {\n  display: none;\n}\n\ndiv.sk-parallel-item,\ndiv.sk-serial,\ndiv.sk-item {\n  /* draw centered vertical line to link estimators */\n  background-image: linear-gradient(var(--sklearn-color-text-on-default-background), var(--sklearn-color-text-on-default-background));\n  background-size: 2px 100%;\n  background-repeat: no-repeat;\n  background-position: center center;\n}\n\n/* Parallel-specific style estimator block */\n\n#sk-container-id-2 div.sk-parallel-item::after {\n  content: \"\";\n  width: 100%;\n  border-bottom: 2px solid var(--sklearn-color-text-on-default-background);\n  flex-grow: 1;\n}\n\n#sk-container-id-2 div.sk-parallel {\n  display: flex;\n  align-items: stretch;\n  justify-content: center;\n  background-color: var(--sklearn-color-background);\n  position: relative;\n}\n\n#sk-container-id-2 div.sk-parallel-item {\n  display: flex;\n  flex-direction: column;\n}\n\n#sk-container-id-2 div.sk-parallel-item:first-child::after {\n  align-self: flex-end;\n  width: 50%;\n}\n\n#sk-container-id-2 div.sk-parallel-item:last-child::after {\n  align-self: flex-start;\n  width: 50%;\n}\n\n#sk-container-id-2 div.sk-parallel-item:only-child::after {\n  width: 0;\n}\n\n/* Serial-specific style estimator block */\n\n#sk-container-id-2 div.sk-serial {\n  display: flex;\n  flex-direction: column;\n  align-items: center;\n  background-color: var(--sklearn-color-background);\n  padding-right: 1em;\n  padding-left: 1em;\n}\n\n\n/* Toggleable style: style used for estimator/Pipeline/ColumnTransformer box that is\nclickable and can be expanded/collapsed.\n- Pipeline and ColumnTransformer use this feature and define the default style\n- Estimators will overwrite some part of the style using the `sk-estimator` class\n*/\n\n/* Pipeline and ColumnTransformer style (default) */\n\n#sk-container-id-2 div.sk-toggleable {\n  /* Default theme specific background. It is overwritten whether we have a\n  specific estimator or a Pipeline/ColumnTransformer */\n  background-color: var(--sklearn-color-background);\n}\n\n/* Toggleable label */\n#sk-container-id-2 label.sk-toggleable__label {\n  cursor: pointer;\n  display: block;\n  width: 100%;\n  margin-bottom: 0;\n  padding: 0.5em;\n  box-sizing: border-box;\n  text-align: center;\n}\n\n#sk-container-id-2 label.sk-toggleable__label-arrow:before {\n  /* Arrow on the left of the label */\n  content: \"▸\";\n  float: left;\n  margin-right: 0.25em;\n  color: var(--sklearn-color-icon);\n}\n\n#sk-container-id-2 label.sk-toggleable__label-arrow:hover:before {\n  color: var(--sklearn-color-text);\n}\n\n/* Toggleable content - dropdown */\n\n#sk-container-id-2 div.sk-toggleable__content {\n  max-height: 0;\n  max-width: 0;\n  overflow: hidden;\n  text-align: left;\n  /* unfitted */\n  background-color: var(--sklearn-color-unfitted-level-0);\n}\n\n#sk-container-id-2 div.sk-toggleable__content.fitted {\n  /* fitted */\n  background-color: var(--sklearn-color-fitted-level-0);\n}\n\n#sk-container-id-2 div.sk-toggleable__content pre {\n  margin: 0.2em;\n  border-radius: 0.25em;\n  color: var(--sklearn-color-text);\n  /* unfitted */\n  background-color: var(--sklearn-color-unfitted-level-0);\n}\n\n#sk-container-id-2 div.sk-toggleable__content.fitted pre {\n  /* unfitted */\n  background-color: var(--sklearn-color-fitted-level-0);\n}\n\n#sk-container-id-2 input.sk-toggleable__control:checked~div.sk-toggleable__content {\n  /* Expand drop-down */\n  max-height: 200px;\n  max-width: 100%;\n  overflow: auto;\n}\n\n#sk-container-id-2 input.sk-toggleable__control:checked~label.sk-toggleable__label-arrow:before {\n  content: \"▾\";\n}\n\n/* Pipeline/ColumnTransformer-specific style */\n\n#sk-container-id-2 div.sk-label input.sk-toggleable__control:checked~label.sk-toggleable__label {\n  color: var(--sklearn-color-text);\n  background-color: var(--sklearn-color-unfitted-level-2);\n}\n\n#sk-container-id-2 div.sk-label.fitted input.sk-toggleable__control:checked~label.sk-toggleable__label {\n  background-color: var(--sklearn-color-fitted-level-2);\n}\n\n/* Estimator-specific style */\n\n/* Colorize estimator box */\n#sk-container-id-2 div.sk-estimator input.sk-toggleable__control:checked~label.sk-toggleable__label {\n  /* unfitted */\n  background-color: var(--sklearn-color-unfitted-level-2);\n}\n\n#sk-container-id-2 div.sk-estimator.fitted input.sk-toggleable__control:checked~label.sk-toggleable__label {\n  /* fitted */\n  background-color: var(--sklearn-color-fitted-level-2);\n}\n\n#sk-container-id-2 div.sk-label label.sk-toggleable__label,\n#sk-container-id-2 div.sk-label label {\n  /* The background is the default theme color */\n  color: var(--sklearn-color-text-on-default-background);\n}\n\n/* On hover, darken the color of the background */\n#sk-container-id-2 div.sk-label:hover label.sk-toggleable__label {\n  color: var(--sklearn-color-text);\n  background-color: var(--sklearn-color-unfitted-level-2);\n}\n\n/* Label box, darken color on hover, fitted */\n#sk-container-id-2 div.sk-label.fitted:hover label.sk-toggleable__label.fitted {\n  color: var(--sklearn-color-text);\n  background-color: var(--sklearn-color-fitted-level-2);\n}\n\n/* Estimator label */\n\n#sk-container-id-2 div.sk-label label {\n  font-family: monospace;\n  font-weight: bold;\n  display: inline-block;\n  line-height: 1.2em;\n}\n\n#sk-container-id-2 div.sk-label-container {\n  text-align: center;\n}\n\n/* Estimator-specific */\n#sk-container-id-2 div.sk-estimator {\n  font-family: monospace;\n  border: 1px dotted var(--sklearn-color-border-box);\n  border-radius: 0.25em;\n  box-sizing: border-box;\n  margin-bottom: 0.5em;\n  /* unfitted */\n  background-color: var(--sklearn-color-unfitted-level-0);\n}\n\n#sk-container-id-2 div.sk-estimator.fitted {\n  /* fitted */\n  background-color: var(--sklearn-color-fitted-level-0);\n}\n\n/* on hover */\n#sk-container-id-2 div.sk-estimator:hover {\n  /* unfitted */\n  background-color: var(--sklearn-color-unfitted-level-2);\n}\n\n#sk-container-id-2 div.sk-estimator.fitted:hover {\n  /* fitted */\n  background-color: var(--sklearn-color-fitted-level-2);\n}\n\n/* Specification for estimator info (e.g. \"i\" and \"?\") */\n\n/* Common style for \"i\" and \"?\" */\n\n.sk-estimator-doc-link,\na:link.sk-estimator-doc-link,\na:visited.sk-estimator-doc-link {\n  float: right;\n  font-size: smaller;\n  line-height: 1em;\n  font-family: monospace;\n  background-color: var(--sklearn-color-background);\n  border-radius: 1em;\n  height: 1em;\n  width: 1em;\n  text-decoration: none !important;\n  margin-left: 1ex;\n  /* unfitted */\n  border: var(--sklearn-color-unfitted-level-1) 1pt solid;\n  color: var(--sklearn-color-unfitted-level-1);\n}\n\n.sk-estimator-doc-link.fitted,\na:link.sk-estimator-doc-link.fitted,\na:visited.sk-estimator-doc-link.fitted {\n  /* fitted */\n  border: var(--sklearn-color-fitted-level-1) 1pt solid;\n  color: var(--sklearn-color-fitted-level-1);\n}\n\n/* On hover */\ndiv.sk-estimator:hover .sk-estimator-doc-link:hover,\n.sk-estimator-doc-link:hover,\ndiv.sk-label-container:hover .sk-estimator-doc-link:hover,\n.sk-estimator-doc-link:hover {\n  /* unfitted */\n  background-color: var(--sklearn-color-unfitted-level-3);\n  color: var(--sklearn-color-background);\n  text-decoration: none;\n}\n\ndiv.sk-estimator.fitted:hover .sk-estimator-doc-link.fitted:hover,\n.sk-estimator-doc-link.fitted:hover,\ndiv.sk-label-container:hover .sk-estimator-doc-link.fitted:hover,\n.sk-estimator-doc-link.fitted:hover {\n  /* fitted */\n  background-color: var(--sklearn-color-fitted-level-3);\n  color: var(--sklearn-color-background);\n  text-decoration: none;\n}\n\n/* Span, style for the box shown on hovering the info icon */\n.sk-estimator-doc-link span {\n  display: none;\n  z-index: 9999;\n  position: relative;\n  font-weight: normal;\n  right: .2ex;\n  padding: .5ex;\n  margin: .5ex;\n  width: min-content;\n  min-width: 20ex;\n  max-width: 50ex;\n  color: var(--sklearn-color-text);\n  box-shadow: 2pt 2pt 4pt #999;\n  /* unfitted */\n  background: var(--sklearn-color-unfitted-level-0);\n  border: .5pt solid var(--sklearn-color-unfitted-level-3);\n}\n\n.sk-estimator-doc-link.fitted span {\n  /* fitted */\n  background: var(--sklearn-color-fitted-level-0);\n  border: var(--sklearn-color-fitted-level-3);\n}\n\n.sk-estimator-doc-link:hover span {\n  display: block;\n}\n\n/* \"?\"-specific style due to the `<a>` HTML tag */\n\n#sk-container-id-2 a.estimator_doc_link {\n  float: right;\n  font-size: 1rem;\n  line-height: 1em;\n  font-family: monospace;\n  background-color: var(--sklearn-color-background);\n  border-radius: 1rem;\n  height: 1rem;\n  width: 1rem;\n  text-decoration: none;\n  /* unfitted */\n  color: var(--sklearn-color-unfitted-level-1);\n  border: var(--sklearn-color-unfitted-level-1) 1pt solid;\n}\n\n#sk-container-id-2 a.estimator_doc_link.fitted {\n  /* fitted */\n  border: var(--sklearn-color-fitted-level-1) 1pt solid;\n  color: var(--sklearn-color-fitted-level-1);\n}\n\n/* On hover */\n#sk-container-id-2 a.estimator_doc_link:hover {\n  /* unfitted */\n  background-color: var(--sklearn-color-unfitted-level-3);\n  color: var(--sklearn-color-background);\n  text-decoration: none;\n}\n\n#sk-container-id-2 a.estimator_doc_link.fitted:hover {\n  /* fitted */\n  background-color: var(--sklearn-color-fitted-level-3);\n}\n</style><div id=\"sk-container-id-2\" class=\"sk-top-container\"><div class=\"sk-text-repr-fallback\"><pre>RandomForestClassifier()</pre><b>In a Jupyter environment, please rerun this cell to show the HTML representation or trust the notebook. <br />On GitHub, the HTML representation is unable to render, please try loading this page with nbviewer.org.</b></div><div class=\"sk-container\" hidden><div class=\"sk-item\"><div class=\"sk-estimator fitted sk-toggleable\"><input class=\"sk-toggleable__control sk-hidden--visually\" id=\"sk-estimator-id-2\" type=\"checkbox\" checked><label for=\"sk-estimator-id-2\" class=\"sk-toggleable__label fitted sk-toggleable__label-arrow fitted\">&nbsp;&nbsp;RandomForestClassifier<a class=\"sk-estimator-doc-link fitted\" rel=\"noreferrer\" target=\"_blank\" href=\"https://scikit-learn.org/1.4/modules/generated/sklearn.ensemble.RandomForestClassifier.html\">?<span>Documentation for RandomForestClassifier</span></a><span class=\"sk-estimator-doc-link fitted\">i<span>Fitted</span></span></label><div class=\"sk-toggleable__content fitted\"><pre>RandomForestClassifier()</pre></div> </div></div></div></div>"
     },
     "execution_count": 64,
     "metadata": {},
     "output_type": "execute_result"
    }
   ],
   "source": [
    "rfc.fit(X_train, y_train)"
   ],
   "metadata": {
    "collapsed": false,
    "ExecuteTime": {
     "end_time": "2024-04-02T21:55:05.885726Z",
     "start_time": "2024-04-02T21:55:05.443234Z"
    }
   },
   "id": "60e159c3f04a773a"
  },
  {
   "cell_type": "code",
   "execution_count": 65,
   "outputs": [],
   "source": [
    "predictions = rfc.predict(X_test)"
   ],
   "metadata": {
    "collapsed": false,
    "ExecuteTime": {
     "end_time": "2024-04-02T21:55:05.902556Z",
     "start_time": "2024-04-02T21:55:05.884295Z"
    }
   },
   "id": "49386d1619037c1e"
  },
  {
   "cell_type": "markdown",
   "source": [
    "# Step 6: Model Evaluation Metrics"
   ],
   "metadata": {
    "collapsed": false
   },
   "id": "9c24b4969dd74c39"
  },
  {
   "cell_type": "code",
   "execution_count": 66,
   "outputs": [
    {
     "data": {
      "text/plain": "0.9828"
     },
     "execution_count": 66,
     "metadata": {},
     "output_type": "execute_result"
    }
   ],
   "source": [
    "sum(predictions == y_test.values) / len(predictions)"
   ],
   "metadata": {
    "collapsed": false,
    "ExecuteTime": {
     "end_time": "2024-04-02T21:55:05.907777Z",
     "start_time": "2024-04-02T21:55:05.903662Z"
    }
   },
   "id": "dae79a51e5b1395f"
  },
  {
   "cell_type": "code",
   "execution_count": 68,
   "outputs": [
    {
     "data": {
      "text/plain": "0.9828"
     },
     "execution_count": 68,
     "metadata": {},
     "output_type": "execute_result"
    }
   ],
   "source": [
    "accuracy_score(y_test, predictions)"
   ],
   "metadata": {
    "collapsed": false,
    "ExecuteTime": {
     "end_time": "2024-04-02T21:58:23.439867Z",
     "start_time": "2024-04-02T21:58:23.435006Z"
    }
   },
   "id": "6d54037b39bd1ce6"
  },
  {
   "cell_type": "code",
   "execution_count": 69,
   "outputs": [
    {
     "data": {
      "text/plain": "0.9827179890023566"
     },
     "execution_count": 69,
     "metadata": {},
     "output_type": "execute_result"
    }
   ],
   "source": [
    "precision_score(y_test, predictions)"
   ],
   "metadata": {
    "collapsed": false,
    "ExecuteTime": {
     "end_time": "2024-04-02T21:58:57.213906Z",
     "start_time": "2024-04-02T21:58:57.203864Z"
    }
   },
   "id": "7f2bae144628bb4a"
  },
  {
   "cell_type": "code",
   "execution_count": 70,
   "outputs": [
    {
     "data": {
      "text/plain": "0.9834905660377359"
     },
     "execution_count": 70,
     "metadata": {},
     "output_type": "execute_result"
    }
   ],
   "source": [
    "recall_score(y_test, predictions)"
   ],
   "metadata": {
    "collapsed": false,
    "ExecuteTime": {
     "end_time": "2024-04-02T21:59:15.734069Z",
     "start_time": "2024-04-02T21:59:15.721732Z"
    }
   },
   "id": "72b20785c6245708"
  },
  {
   "cell_type": "code",
   "execution_count": null,
   "outputs": [],
   "source": [],
   "metadata": {
    "collapsed": false
   },
   "id": "8d7b306f96ea27a"
  }
 ],
 "metadata": {
  "kernelspec": {
   "display_name": "Python 3",
   "language": "python",
   "name": "python3"
  },
  "language_info": {
   "codemirror_mode": {
    "name": "ipython",
    "version": 2
   },
   "file_extension": ".py",
   "mimetype": "text/x-python",
   "name": "python",
   "nbconvert_exporter": "python",
   "pygments_lexer": "ipython2",
   "version": "2.7.6"
  }
 },
 "nbformat": 4,
 "nbformat_minor": 5
}
